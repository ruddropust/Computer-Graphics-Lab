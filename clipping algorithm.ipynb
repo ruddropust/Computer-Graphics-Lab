{
 "cells": [
  {
   "cell_type": "code",
   "execution_count": 1,
   "metadata": {},
   "outputs": [],
   "source": [
    "import matplotlib.pyplot as plt\n",
    "import matplotlib.patches as patches\n",
    "import numpy as np"
   ]
  },
  {
   "cell_type": "code",
   "execution_count": 2,
   "metadata": {},
   "outputs": [],
   "source": [
    "def draw_window(ax, xmin, ymin, xmax, ymax):\n",
    "    rect = patches.Rectangle((xmin, ymin), xmax - xmin, ymax - ymin, linewidth=2, edgecolor='black', facecolor='none')\n",
    "    ax.add_patch(rect)"
   ]
  },
  {
   "cell_type": "code",
   "execution_count": 3,
   "metadata": {},
   "outputs": [],
   "source": [
    "def point_clipping(xmin, ymin, xmax, ymax):\n",
    "    fig, ax = plt.subplots()\n",
    "    draw_window(ax, xmin, ymin, xmax, ymax)\n",
    "\n",
    "    n = int(input(\"Enter number of points: \"))\n",
    "    points = []\n",
    "\n",
    "    for i in range(n):\n",
    "        x = float(input(f\"Enter x coordinate of point {i+1}: \"))\n",
    "        y = float(input(f\"Enter y coordinate of point {i+1}: \"))\n",
    "        points.append((x, y))\n",
    "\n",
    "    for x, y in points:\n",
    "        if xmin <= x <= xmax and ymin <= y <= ymax:\n",
    "            ax.plot(x, y, 'go')  # Inside - green\n",
    "        else:\n",
    "            ax.plot(x, y, 'ro')  # Outside - red\n",
    "\n",
    "    ax.set_title('Point Clipping')\n",
    "    ax.set_xlim(0, 400)\n",
    "    ax.set_ylim(0, 400)\n",
    "    plt.gca().invert_yaxis()\n",
    "    plt.grid()\n",
    "    plt.show()"
   ]
  },
  {
   "cell_type": "code",
   "execution_count": 4,
   "metadata": {},
   "outputs": [],
   "source": [
    "# Define region codes\n",
    "INSIDE, LEFT, RIGHT, BOTTOM, TOP = 0, 1, 2, 4, 8\n",
    "\n",
    "def compute_code(x, y, xmin, ymin, xmax, ymax):\n",
    "    code = INSIDE\n",
    "    if x < xmin: code |= LEFT\n",
    "    elif x > xmax: code |= RIGHT\n",
    "    if y < ymin: code |= BOTTOM\n",
    "    elif y > ymax: code |= TOP\n",
    "    return code"
   ]
  },
  {
   "cell_type": "code",
   "execution_count": 5,
   "metadata": {},
   "outputs": [],
   "source": [
    "def cohen_sutherland_clip(x1, y1, x2, y2, xmin, ymin, xmax, ymax):\n",
    "    code1 = compute_code(x1, y1, xmin, ymin, xmax, ymax)\n",
    "    code2 = compute_code(x2, y2, xmin, ymin, xmax, ymax)\n",
    "    accept = False\n",
    "\n",
    "    while True:\n",
    "        if not (code1 | code2):\n",
    "            accept = True\n",
    "            break\n",
    "        elif code1 & code2:\n",
    "            break\n",
    "        else:\n",
    "            x, y = 0.0, 0.0\n",
    "            out_code = code1 if code1 else code2\n",
    "\n",
    "            if out_code & TOP:\n",
    "                x = x1 + (x2 - x1) * (ymax - y1) / (y2 - y1)\n",
    "                y = ymax\n",
    "            elif out_code & BOTTOM:\n",
    "                x = x1 + (x2 - x1) * (ymin - y1) / (y2 - y1)\n",
    "                y = ymin\n",
    "            elif out_code & RIGHT:\n",
    "                y = y1 + (y2 - y1) * (xmax - x1) / (x2 - x1)\n",
    "                x = xmax\n",
    "            elif out_code & LEFT:\n",
    "                y = y1 + (y2 - y1) * (xmin - x1) / (x2 - x1)\n",
    "                x = xmin\n",
    "\n",
    "            if out_code == code1:\n",
    "                x1, y1 = x, y\n",
    "                code1 = compute_code(x1, y1, xmin, ymin, xmax, ymax)\n",
    "            else:\n",
    "                x2, y2 = x, y\n",
    "                code2 = compute_code(x2, y2, xmin, ymin, xmax, ymax)\n",
    "\n",
    "    if accept:\n",
    "        return (x1, y1, x2, y2)\n",
    "    else:\n",
    "        return None"
   ]
  },
  {
   "cell_type": "code",
   "execution_count": 6,
   "metadata": {},
   "outputs": [],
   "source": [
    "def line_clipping(xmin, ymin, xmax, ymax):\n",
    "\n",
    "    fig, ax = plt.subplots()\n",
    "    draw_window(ax, xmin, ymin, xmax, ymax)\n",
    "\n",
    "    n = int(input(\"Enter number of lines: \"))\n",
    "    lines = []\n",
    "    for i in range(n):\n",
    "        print(f\"Line {i+1}:\")\n",
    "        x1 = float(input(\"  Enter x1: \"))\n",
    "        y1 = float(input(\"  Enter y1: \"))\n",
    "        x2 = float(input(\"  Enter x2: \"))\n",
    "        y2 = float(input(\"  Enter y2: \"))\n",
    "        lines.append(((x1, y1), (x2, y2)))\n",
    "\n",
    "    for (x1, y1), (x2, y2) in lines:\n",
    "        clipped = cohen_sutherland_clip(x1, y1, x2, y2, xmin, ymin, xmax, ymax)\n",
    "        ax.plot([x1, x2], [y1, y2], 'r--')  # original line in red dashed\n",
    "        if clipped:\n",
    "            cx1, cy1, cx2, cy2 = clipped\n",
    "            ax.plot([cx1, cx2], [cy1, cy2], 'g-')  # clipped line in green\n",
    "\n",
    "    ax.set_title('Line Clipping - Cohen Sutherland')\n",
    "    ax.set_xlim(0, 400)\n",
    "    ax.set_ylim(0, 400)\n",
    "    plt.gca().invert_yaxis()\n",
    "    plt.grid()\n",
    "    plt.show()"
   ]
  },
  {
   "cell_type": "code",
   "execution_count": 7,
   "metadata": {},
   "outputs": [],
   "source": [
    "def clip_polygon(subjectPolygon, clipEdge, xmin, ymin, xmax, ymax):\n",
    "    def inside(p):\n",
    "        x, y = p\n",
    "        if clipEdge == 'LEFT':\n",
    "            return x >= xmin\n",
    "        elif clipEdge == 'RIGHT':\n",
    "            return x <= xmax\n",
    "        elif clipEdge == 'BOTTOM':\n",
    "            return y >= ymin\n",
    "        elif clipEdge == 'TOP':\n",
    "            return y <= ymax\n",
    "\n",
    "    def compute_intersection(p1, p2):\n",
    "        x1, y1 = p1\n",
    "        x2, y2 = p2\n",
    "        if clipEdge == 'LEFT':\n",
    "            x, y = xmin, y1 + (y2 - y1) * (xmin - x1) / (x2 - x1)\n",
    "        elif clipEdge == 'RIGHT':\n",
    "            x, y = xmax, y1 + (y2 - y1) * (xmax - x1) / (x2 - x1)\n",
    "        elif clipEdge == 'BOTTOM':\n",
    "            y, x = ymin, x1 + (x2 - x1) * (ymin - y1) / (y2 - y1)\n",
    "        elif clipEdge == 'TOP':\n",
    "            y, x = ymax, x1 + (x2 - x1) * (ymax - y1) / (y2 - y1)\n",
    "        return (x, y)\n",
    "\n",
    "    outputList = []\n",
    "    inputList = subjectPolygon\n",
    "    s = inputList[-1]\n",
    "\n",
    "    for e in inputList:\n",
    "        if inside(e):\n",
    "            if not inside(s):\n",
    "                outputList.append(compute_intersection(s, e))\n",
    "            outputList.append(e)\n",
    "        elif inside(s):\n",
    "            outputList.append(compute_intersection(s, e))\n",
    "        s = e\n",
    "\n",
    "    return outputList"
   ]
  },
  {
   "cell_type": "code",
   "execution_count": 8,
   "metadata": {},
   "outputs": [],
   "source": [
    "def polygon_clipping(xmin, ymin, xmax, ymax):\n",
    "    fig, ax = plt.subplots()\n",
    "    draw_window(ax, xmin, ymin, xmax, ymax)\n",
    "\n",
    "    n = int(input(\"Enter number of vertices for the polygon: \"))\n",
    "    subjectPolygon = []\n",
    "\n",
    "    for i in range(n):\n",
    "        x = float(input(f\"Enter x-coordinate of vertex {i+1}: \"))\n",
    "        y = float(input(f\"Enter y-coordinate of vertex {i+1}: \"))\n",
    "        subjectPolygon.append((x, y))\n",
    "\n",
    "    clipEdges = ['LEFT', 'RIGHT', 'BOTTOM', 'TOP']\n",
    "    poly = subjectPolygon\n",
    "    for edge in clipEdges:\n",
    "        poly = clip_polygon(poly, edge, xmin, ymin, xmax, ymax)\n",
    "\n",
    "    x, y = zip(*subjectPolygon)\n",
    "    ax.plot(x + (x[0],), y + (y[0],), 'r--', label='Original Polygon')\n",
    "\n",
    "    if poly:\n",
    "        cx, cy = zip(*poly)\n",
    "        ax.plot(cx + (cx[0],), cy + (cy[0],), 'g-', label='Clipped Polygon')\n",
    "\n",
    "    ax.set_title('Polygon Clipping - Sutherland Hodgeman')\n",
    "    ax.set_xlim(0, 400)\n",
    "    ax.set_ylim(0, 400)\n",
    "    plt.gca().invert_yaxis()\n",
    "    plt.grid()\n",
    "    plt.legend()\n",
    "    plt.show()"
   ]
  },
  {
   "cell_type": "code",
   "execution_count": 9,
   "metadata": {},
   "outputs": [],
   "source": [
    "def menu(xmin, ymin, xmax, ymax):\n",
    "    while True:\n",
    "        print(\"\\nMenu:\")\n",
    "        print(\"1. Point Clipping\")\n",
    "        print(\"2. Line Clipping\")\n",
    "        print(\"3. Polygon Clipping\")\n",
    "        print(\"4. Exit\")\n",
    "\n",
    "        choice = input(\"Enter choice: \")\n",
    "        if choice == '1':\n",
    "            point_clipping(xmin, ymin, xmax, ymax)\n",
    "        elif choice == '2':\n",
    "            line_clipping(xmin, ymin, xmax, ymax)\n",
    "        elif choice == '3':\n",
    "            polygon_clipping(xmin, ymin, xmax, ymax)\n",
    "        elif choice == '4':\n",
    "            break\n",
    "        else:\n",
    "            print(\"Invalid choice.\")"
   ]
  },
  {
   "cell_type": "code",
   "execution_count": 10,
   "metadata": {},
   "outputs": [],
   "source": [
    "# xmin, ymin = 100, 100\n",
    "# xmax, ymax = 300, 300\n",
    "\n",
    "# points = [(150, 150), (90, 90), (310, 250), (200, 310)]\n",
    "# lines = [((50, 50), (350, 350)), ((120, 120), (180, 280)), ((50, 200), (200, 50))]\n",
    "# subjectPolygon = [(50, 150), (200, 50), (350, 150), (350, 300), (250, 350), (100, 300)]\n"
   ]
  },
  {
   "cell_type": "code",
   "execution_count": 11,
   "metadata": {},
   "outputs": [
    {
     "name": "stdout",
     "output_type": "stream",
     "text": [
      "\n",
      "Menu:\n",
      "1. Point Clipping\n",
      "2. Line Clipping\n",
      "3. Polygon Clipping\n",
      "4. Exit\n"
     ]
    },
    {
     "data": {
      "image/png": "[encoded data removed]",
      "text/plain": [
       "<Figure size 640x480 with 1 Axes>"
      ]
     },
     "metadata": {},
     "output_type": "display_data"
    },
    {
     "name": "stdout",
     "output_type": "stream",
     "text": [
      "\n",
      "Menu:\n",
      "1. Point Clipping\n",
      "2. Line Clipping\n",
      "3. Polygon Clipping\n",
      "4. Exit\n"
     ]
    }
   ],
   "source": [
    "if __name__ == \"__main__\":\n",
    "    xmin = float(input(\"Enter xmin of clipping window: \"))\n",
    "    ymin = float(input(\"Enter ymin of clipping window: \"))\n",
    "    xmax = float(input(\"Enter xmax of clipping window: \"))\n",
    "    ymax = float(input(\"Enter ymax of clipping window: \"))\n",
    "    menu(xmin, ymin, xmax, ymax)"
   ]
  }
 ],
 "metadata": {
  "kernelspec": {
   "display_name": "base",
   "language": "python",
   "name": "python3"
  },
  "language_info": {
   "codemirror_mode": {
    "name": "ipython",
    "version": 3
   },
   "file_extension": ".py",
   "mimetype": "text/x-python",
   "name": "python",
   "nbconvert_exporter": "python",
   "pygments_lexer": "ipython3",
   "version": "3.12.3"
  }
 },
 "nbformat": 4,
 "nbformat_minor": 2
}
