{
 "cells": [
  {
   "cell_type": "code",
   "execution_count": 3,
   "metadata": {},
   "outputs": [
    {
     "data": {
      "image/png": "[encoded data removed]",
      "text/plain": [
       "<Figure size 640x480 with 1 Axes>"
      ]
     },
     "metadata": {},
     "output_type": "display_data"
    }
   ],
   "source": [
    "import numpy as np\n",
    "import matplotlib.pyplot as plt\n",
    "\n",
    "def draw_line(x1, y1, x2, y2):\n",
    "    dx = abs(x2 - x1)\n",
    "    dy = abs(y2 - y1)\n",
    "    sx = 1 if x1 < x2 else -1\n",
    "    sy = 1 if y1 < y2 else -1\n",
    "    err = dx - dy\n",
    "    x, y = x1, y1\n",
    "    points = []\n",
    "\n",
    "    while True:\n",
    "        points.append((x, y))\n",
    "        if x == x2 and y == y2:\n",
    "            break\n",
    "        e2 = 2 * err\n",
    "        if e2 > -dy:\n",
    "            err -= dy\n",
    "            x += sx\n",
    "        if e2 < dx:\n",
    "            err += dx\n",
    "            y += sy\n",
    "    return points\n",
    "\n",
    "def boundary_fill(image, x, y, fill_color, boundary_color):\n",
    "    stack = [(x, y)]\n",
    "    h, w = image.shape[:2]\n",
    "\n",
    "    while stack:\n",
    "        x, y = stack.pop()\n",
    "        if 0 <= x < h and 0 <= y < w:\n",
    "            if not np.array_equal(image[x, y], boundary_color) and not np.array_equal(image[x, y], fill_color):\n",
    "                image[x, y] = fill_color\n",
    "                stack.extend([\n",
    "                    (x + 1, y), (x - 1, y),\n",
    "                    (x, y + 1), (x, y - 1),\n",
    "                    (x + 1, y + 1), (x - 1, y - 1),\n",
    "                    (x + 1, y - 1), (x - 1, y + 1)\n",
    "                ])\n",
    "\n",
    "# --- Initialize blank image ---\n",
    "size = 100\n",
    "image = np.ones((size, size, 3), dtype=np.uint8) * 255  # White background\n",
    "\n",
    "# --- Draw a single line ---\n",
    "x1, y1 = 20, 20\n",
    "x2, y2 = 80, 20\n",
    "line_points = draw_line(x1, y1, x2, y2)\n",
    "\n",
    "for x, y in line_points:\n",
    "    if 0 <= x < size and 0 <= y < size:\n",
    "        image[x, y] = [0, 0, 0]  # black line\n",
    "\n",
    "# --- Fill inside the line boundary ---\n",
    "start_x, start_y = 50, 21  # point just below the line\n",
    "fill_color = (255, 0, 0)  # Red\n",
    "boundary_color = (0, 0, 0)  # Black line as boundary\n",
    "\n",
    "boundary_fill(image, start_x, start_y, fill_color, boundary_color)\n",
    "\n",
    "# --- Show result ---\n",
    "plt.imshow(image)\n",
    "plt.title(\"Line with Boundary Fill\")\n",
    "plt.axis('off')\n",
    "plt.show()\n"
   ]
  }
 ],
 "metadata": {
  "kernelspec": {
   "display_name": "base",
   "language": "python",
   "name": "python3"
  },
  "language_info": {
   "codemirror_mode": {
    "name": "ipython",
    "version": 3
   },
   "file_extension": ".py",
   "mimetype": "text/x-python",
   "name": "python",
   "nbconvert_exporter": "python",
   "pygments_lexer": "ipython3",
   "version": "3.12.3"
  }
 },
 "nbformat": 4,
 "nbformat_minor": 2
}
