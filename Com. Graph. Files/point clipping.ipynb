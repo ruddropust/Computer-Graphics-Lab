{
 "cells": [
  {
   "cell_type": "code",
   "execution_count": null,
   "id": "f7d0f10a",
   "metadata": {},
   "outputs": [],
   "source": [
    "x = int(input(\"Enter x: \"))\n",
    "y = int(input(\"Enter y: \"))\n",
    "xwl = int(input(\"Enter low window x: \"))\n",
    "ywl = int(input(\"Enter low window y: \"))\n",
    "xhl = int(input(\"Enter high window x: \"))\n",
    "yhl = int(input(\"Enter high window y: \"))\n",
    "\n",
    "flag = True\n",
    "\n",
    "if x<xwl or x>xhl:\n",
    "    flag = False\n",
    "if y<ywl or y>yhl:\n",
    "    flag = False\n",
    "if flag:\n",
    "    print(\"The point is in the window\")\n",
    "else:\n",
    "    print(\"The point is outside the window\")"
   ]
  }
 ],
 "metadata": {
  "language_info": {
   "name": "python"
  }
 },
 "nbformat": 4,
 "nbformat_minor": 5
}
