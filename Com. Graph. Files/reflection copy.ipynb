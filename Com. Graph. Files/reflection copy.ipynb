{
 "cells": [
  {
   "cell_type": "code",
   "execution_count": 16,
   "id": "094a322a",
   "metadata": {},
   "outputs": [],
   "source": [
    "import numpy as np\n",
    "import matplotlib.pyplot as plt\n",
    "def rotation(theta,x,y):\n",
    "    theta = np.radians(theta)\n",
    "    x1= x*np.cos(theta)-y*np.sin(theta)\n",
    "    y1 = x*np.sin(theta)+y*np.cos(theta)\n",
    "    return [x1,y1]\n",
    "\n",
    "def draw_shape(points):\n",
    "    for i in range(len(points)-1):\n",
    "        x1 = points[i][0]\n",
    "        x2 = points[i+1][0]\n",
    "        y1 = points[i][1]\n",
    "        y2 = points[i+1][1]\n",
    "        plt.plot([x1,x2],[y1,y2])"
   ]
  },
  {
   "cell_type": "code",
   "execution_count": 17,
   "id": "48eb2147",
   "metadata": {},
   "outputs": [
    {
     "data": {
      "image/png": "[encoded data removed]",
      "text/plain": [
       "<Figure size 640x480 with 1 Axes>"
      ]
     },
     "metadata": {},
     "output_type": "display_data"
    }
   ],
   "source": [
    "num_points = int(input(\"Enter number of points\"))\n",
    "points = []\n",
    "for i in range(num_points):\n",
    "    x = int(input(f\"Enter x{i+1}\"))\n",
    "    y = int(input(f\"Enter y{i+1}\"))\n",
    "    points.append([x,y])\n",
    "\n",
    "theta = float(input(\"Theta\"))\n",
    "\n",
    "new_point_list = []\n",
    "for point in points:\n",
    "    new_pt = rotation(theta,point[0],point[1])\n",
    "    new_point_list.append(new_pt)\n",
    "\n",
    "\n",
    "draw_shape(points)\n",
    "draw_shape(new_point_list)\n",
    "\n",
    "plt.gca().set_aspect(\"equal\", adjustable=\"box\")\n",
    "plt.show()\n",
    "\n"
   ]
  },
  {
   "cell_type": "code",
   "execution_count": 18,
   "id": "124c41e9",
   "metadata": {},
   "outputs": [
    {
     "data": {
      "text/plain": [
       "[[1, 1], [5, 5]]"
      ]
     },
     "execution_count": 18,
     "metadata": {},
     "output_type": "execute_result"
    }
   ],
   "source": [
    "points"
   ]
  },
  {
   "cell_type": "code",
   "execution_count": 19,
   "id": "88ef9ac5",
   "metadata": {},
   "outputs": [
    {
     "data": {
      "text/plain": [
       "array([[-1, -1],\n",
       "       [-5, -5]])"
      ]
     },
     "execution_count": 19,
     "metadata": {},
     "output_type": "execute_result"
    }
   ],
   "source": [
    "import numpy as np\n",
    "-np.array(points)"
   ]
  },
  {
   "cell_type": "code",
   "execution_count": null,
   "id": "ca6c6dc4",
   "metadata": {},
   "outputs": [],
   "source": []
  }
 ],
 "metadata": {
  "kernelspec": {
   "display_name": "base",
   "language": "python",
   "name": "python3"
  },
  "language_info": {
   "codemirror_mode": {
    "name": "ipython",
    "version": 3
   },
   "file_extension": ".py",
   "mimetype": "text/x-python",
   "name": "python",
   "nbconvert_exporter": "python",
   "pygments_lexer": "ipython3",
   "version": "3.12.9"
  }
 },
 "nbformat": 4,
 "nbformat_minor": 5
}
