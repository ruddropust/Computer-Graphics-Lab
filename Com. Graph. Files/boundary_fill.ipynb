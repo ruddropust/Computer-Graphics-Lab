{
 "cells": [
  {
   "cell_type": "code",
   "execution_count": 19,
   "id": "8a520f64",
   "metadata": {},
   "outputs": [],
   "source": [
    "import numpy as np \n",
    "import matplotlib.pyplot as plt "
   ]
  },
  {
   "cell_type": "code",
   "execution_count": 20,
   "id": "bb7e9f46",
   "metadata": {},
   "outputs": [],
   "source": [
    "xmin = int(input(\"Enter window x min: \"))\n",
    "ymin = int(input(\"Enter window y min: \"))\n",
    "xmax = int(input(\"Enter window x max: \"))\n",
    "ymax = int(input(\"Enter window y max: \"))\n"
   ]
  },
  {
   "cell_type": "code",
   "execution_count": 21,
   "id": "9c8e6163",
   "metadata": {},
   "outputs": [],
   "source": [
    "grid = np.zeros((xmax+5,ymax+5))"
   ]
  },
  {
   "cell_type": "code",
   "execution_count": 22,
   "id": "3b68d11c",
   "metadata": {},
   "outputs": [],
   "source": [
    "def dda_line(x1, y1, x2, y2):\n",
    "    dx = x2 - x1\n",
    "    dy = y2 - y1\n",
    "    \n",
    "    steps = max(abs(dx), abs(dy))\n",
    "    \n",
    "    # Avoid division by zero (if steps=0, it's just a single point)\n",
    "    if steps == 0:\n",
    "        return [(round(x1), round(y1))]\n",
    "    \n",
    "    x_inc = dx / steps\n",
    "    y_inc = dy / steps\n",
    "    \n",
    "    x, y = x1, y1\n",
    "    points = []\n",
    "    \n",
    "    for _ in range(steps + 1):  # +1 to include both endpoints\n",
    "        points.append((round(x), round(y)))\n",
    "        x += x_inc\n",
    "        y += y_inc\n",
    "    \n",
    "    return points"
   ]
  },
  {
   "cell_type": "code",
   "execution_count": 23,
   "id": "5f4dbbdf",
   "metadata": {},
   "outputs": [],
   "source": [
    "def draw_window(xl,yl,xh,yh):\n",
    "    points1 = dda_line(xl,yl,xh,yl)\n",
    "    points2 = dda_line(xl,yl,xl,yh)\n",
    "    points3 = dda_line(xl,yh,xh,yh)\n",
    "    points4 = dda_line(xh,yl,xh,yh)\n",
    "    for point in points1:\n",
    "        grid[point[0]][point[1]]=1\n",
    "    for point in points2:\n",
    "        grid[point[0]][point[1]]=1\n",
    "    for point in points3:\n",
    "        grid[point[0]][point[1]]=1\n",
    "    for point in points4:\n",
    "        grid[point[0]][point[1]]=1\n",
    "draw_window(xmin,ymin,xmax,ymax)"
   ]
  },
  {
   "cell_type": "code",
   "execution_count": 24,
   "id": "374eb1ad",
   "metadata": {},
   "outputs": [
    {
     "data": {
      "text/plain": [
       "array([[0., 0., 0., ..., 0., 0., 0.],\n",
       "       [0., 0., 0., ..., 0., 0., 0.],\n",
       "       [0., 0., 0., ..., 0., 0., 0.],\n",
       "       ...,\n",
       "       [0., 0., 0., ..., 0., 0., 0.],\n",
       "       [0., 0., 0., ..., 0., 0., 0.],\n",
       "       [0., 0., 0., ..., 0., 0., 0.]], shape=(55, 55))"
      ]
     },
     "execution_count": 24,
     "metadata": {},
     "output_type": "execute_result"
    }
   ],
   "source": [
    "grid"
   ]
  },
  {
   "cell_type": "code",
   "execution_count": 25,
   "id": "af9e48fa",
   "metadata": {},
   "outputs": [
    {
     "data": {
      "text/plain": [
       "<matplotlib.image.AxesImage at 0x74028e0bbb30>"
      ]
     },
     "execution_count": 25,
     "metadata": {},
     "output_type": "execute_result"
    },
    {
     "data": {
      "image/png": "[encoded data removed]",
      "text/plain": [
       "<Figure size 640x480 with 1 Axes>"
      ]
     },
     "metadata": {},
     "output_type": "display_data"
    }
   ],
   "source": [
    "plt.imshow(grid)"
   ]
  },
  {
   "cell_type": "code",
   "execution_count": 26,
   "id": "55654580",
   "metadata": {},
   "outputs": [],
   "source": [
    "def boundary_fill(x,y):\n",
    "    if grid[x][y] != 1 and grid[x][y] != 2:\n",
    "        grid[x][y] = 2\n",
    "    else:\n",
    "        return \n",
    "    boundary_fill(x+1,y)\n",
    "    boundary_fill(x-1,y)\n",
    "    boundary_fill(x,y+1)\n",
    "    boundary_fill(x,y-1)\n",
    "    boundary_fill(x+1,y+1)\n",
    "    boundary_fill(x-1,y-1)\n",
    "    boundary_fill(x+1,y-1)\n",
    "    boundary_fill(x-1,y+1)\n",
    "boundary_fill(int((xmax+xmin)/2), int((xmax+xmin)/2))"
   ]
  },
  {
   "cell_type": "code",
   "execution_count": 27,
   "id": "ef07ab81",
   "metadata": {},
   "outputs": [
    {
     "data": {
      "text/plain": [
       "<matplotlib.image.AxesImage at 0x74028df304a0>"
      ]
     },
     "execution_count": 27,
     "metadata": {},
     "output_type": "execute_result"
    },
    {
     "data": {
      "image/png": "[encoded data removed]",
      "text/plain": [
       "<Figure size 640x480 with 1 Axes>"
      ]
     },
     "metadata": {},
     "output_type": "display_data"
    }
   ],
   "source": [
    "plt.imshow(grid)"
   ]
  },
  {
   "cell_type": "code",
   "execution_count": null,
   "id": "6f381ae7",
   "metadata": {},
   "outputs": [],
   "source": []
  }
 ],
 "metadata": {
  "kernelspec": {
   "display_name": "base",
   "language": "python",
   "name": "python3"
  },
  "language_info": {
   "codemirror_mode": {
    "name": "ipython",
    "version": 3
   },
   "file_extension": ".py",
   "mimetype": "text/x-python",
   "name": "python",
   "nbconvert_exporter": "python",
   "pygments_lexer": "ipython3",
   "version": "3.12.9"
  }
 },
 "nbformat": 4,
 "nbformat_minor": 5
}
