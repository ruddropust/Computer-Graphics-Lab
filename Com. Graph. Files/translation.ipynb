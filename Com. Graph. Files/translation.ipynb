{
 "cells": [
  {
   "cell_type": "code",
   "execution_count": null,
   "id": "ee73faab",
   "metadata": {},
   "outputs": [],
   "source": []
  },
  {
   "cell_type": "code",
   "execution_count": 7,
   "id": "4fb2e9b2",
   "metadata": {},
   "outputs": [],
   "source": [
    "import matplotlib.pyplot as plt"
   ]
  },
  {
   "cell_type": "code",
   "execution_count": 8,
   "id": "14e736e6",
   "metadata": {},
   "outputs": [],
   "source": [
    "def bresenham_line(start, end):\n",
    "    del_y = abs(end[1]-start[1])\n",
    "    del_x = abs(end[0]-start[0])\n",
    "    \n",
    "    decision = 2*del_y - del_x\n",
    "    \n",
    "    activated_pixels = []\n",
    "    x = start[0]\n",
    "    y = start[1]\n",
    "    \n",
    "    activated_pixels.append((x,y))\n",
    "    while x != end[0] or y != end[1]:\n",
    "        if decision<0:\n",
    "            x = x+1\n",
    "            decision = decision +2*del_y\n",
    "        else:\n",
    "            x = x+1\n",
    "            y = y+1\n",
    "            decision = decision +2*del_y - 2*del_x\n",
    "        activated_pixels.append((round(x),round(y)))\n",
    "    return activated_pixels"
   ]
  },
  {
   "cell_type": "code",
   "execution_count": 9,
   "id": "b511ed1c",
   "metadata": {},
   "outputs": [],
   "source": [
    "def plot_points(activated_pixels, new_pixels):\n",
    "    x_points,y_points = zip(*activated_pixels)\n",
    "    # print(x_points)\n",
    "    # print(y_points)\n",
    "    labels = range(max(max(x_points),max(y_points))+1)\n",
    "    plt.scatter(x_points,y_points, marker='s')\n",
    "    plt.gca().set_aspect('equal', adjustable='box')\n",
    "    plt.xticks(labels)\n",
    "    plt.yticks(labels)\n",
    "    x_points,y_points = zip(*new_pixels)\n",
    "    labels = range(max(max(x_points),max(y_points))+1)\n",
    "    plt.scatter(x_points,y_points, marker='s', color=\"red\")\n",
    "    plt.gca().set_aspect('equal', adjustable='box')\n",
    "    plt.xticks(labels)\n",
    "    plt.yticks(labels)\n",
    "    plt.show()"
   ]
  },
  {
   "cell_type": "code",
   "execution_count": 10,
   "id": "ca6eda22",
   "metadata": {},
   "outputs": [],
   "source": [
    "def translation(points, tx, ty):\n",
    "    new_points = []\n",
    "    for i in range(len(points)):\n",
    "        x = points[i][0] + tx\n",
    "        y = points[i][1] + ty\n",
    "        new_points.append((x,y))\n",
    "    return new_points"
   ]
  },
  {
   "cell_type": "code",
   "execution_count": 11,
   "id": "2c678634",
   "metadata": {},
   "outputs": [
    {
     "name": "stdout",
     "output_type": "stream",
     "text": [
      "[(0, 0), (1, 1), (2, 2), (3, 2), (4, 3), (5, 4), (6, 5), (7, 6), (8, 7), (9, 7), (10, 8), (11, 9), (12, 10), (13, 11), (14, 11), (15, 12), (16, 13)]\n",
      "####\n"
     ]
    }
   ],
   "source": [
    "tx = int(input(\"Enter tx: \"))\n",
    "ty = int(input(\"Enter ty: \"))\n",
    "points = bresenham_line((0,0),(16,13))\n",
    "print(points)\n",
    "print(\"#\"*4)\n",
    "new_points = translation(points, tx, ty)"
   ]
  },
  {
   "cell_type": "code",
   "execution_count": 12,
   "id": "3ee39a58",
   "metadata": {},
   "outputs": [
    {
     "data": {
      "image/png": "[encoded data removed]",
      "text/plain": [
       "<Figure size 640x480 with 1 Axes>"
      ]
     },
     "metadata": {},
     "output_type": "display_data"
    }
   ],
   "source": [
    "plot_points(points, new_points)"
   ]
  },
  {
   "cell_type": "code",
   "execution_count": null,
   "id": "f1867f31",
   "metadata": {},
   "outputs": [],
   "source": []
  }
 ],
 "metadata": {
  "kernelspec": {
   "display_name": "base",
   "language": "python",
   "name": "python3"
  },
  "language_info": {
   "codemirror_mode": {
    "name": "ipython",
    "version": 3
   },
   "file_extension": ".py",
   "mimetype": "text/x-python",
   "name": "python",
   "nbconvert_exporter": "python",
   "pygments_lexer": "ipython3",
   "version": "3.12.9"
  }
 },
 "nbformat": 4,
 "nbformat_minor": 5
}
