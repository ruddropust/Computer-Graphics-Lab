{
 "cells": [
  {
   "cell_type": "code",
   "execution_count": 33,
   "id": "6d4f6bbe",
   "metadata": {},
   "outputs": [],
   "source": [
    "import matplotlib.pyplot as plt\n",
    "def bresenham_line(start, end):\n",
    "    del_y = abs(end[1]-start[1])\n",
    "    del_x = abs(end[0]-start[0])\n",
    "    \n",
    "    decision = 2*del_y - del_x\n",
    "    \n",
    "    activated_pixels = []\n",
    "    x = start[0]\n",
    "    y = start[1]\n",
    "    \n",
    "    activated_pixels.append((x,y))\n",
    "    while x != end[0] or y != end[1]:\n",
    "        if decision<0:\n",
    "            x = x+1\n",
    "            decision = decision +2*del_y\n",
    "        else:\n",
    "            x = x+1\n",
    "            y = y+1\n",
    "            decision = decision +2*del_y - 2*del_x\n",
    "        activated_pixels.append((round(x),round(y)))\n",
    "    return activated_pixels\n",
    "def plot_points(activated_pixels):\n",
    "    x_points,y_points = zip(*activated_pixels)\n",
    "    # print(x_points)\n",
    "    # print(y_points)\n",
    "    labels = range(max(max(x_points),max(y_points))+1)\n",
    "    print(labels)\n",
    "    plt.scatter(x_points,y_points, marker='s')\n",
    "    plt.xticks(labels)\n",
    "    plt.yticks(labels)\n",
    "    plt.show()\n",
    "x1 = int(input(\"Enter x1: \"))\n",
    "y1 = int(input(\"Enter y1: \"))\n",
    "x2 = int(input(\"Enter x2: \"))\n",
    "y2 = int(input(\"Enter y2: \"))\n",
    "activated_pixels = bresenham_line((x1,y1),(x2,y2))\n",
    "plot_points(activated_pixels)\n",
    "    \n"
   ]
  },
  {
   "cell_type": "code",
   "execution_count": null,
   "id": "27f23946",
   "metadata": {},
   "outputs": [],
   "source": []
  }
 ],
 "metadata": {
  "kernelspec": {
   "display_name": "base",
   "language": "python",
   "name": "python3"
  },
  "language_info": {
   "codemirror_mode": {
    "name": "ipython",
    "version": 3
   },
   "file_extension": ".py",
   "mimetype": "text/x-python",
   "name": "python",
   "nbconvert_exporter": "python",
   "pygments_lexer": "ipython3",
   "version": "3.12.9"
  }
 },
 "nbformat": 4,
 "nbformat_minor": 5
}
