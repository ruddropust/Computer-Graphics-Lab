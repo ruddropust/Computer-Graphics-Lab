{
 "cells": [
  {
   "cell_type": "code",
   "execution_count": 1,
   "id": "baac3bbe",
   "metadata": {},
   "outputs": [],
   "source": [
    "import matplotlib.pyplot as plt \n",
    "import numpy as np "
   ]
  },
  {
   "cell_type": "code",
   "execution_count": 2,
   "id": "7477b917",
   "metadata": {},
   "outputs": [],
   "source": [
    "num = int(input(\"Enter number of lines: \"))\n",
    "start = []\n",
    "end = []\n",
    "\n",
    "for i in range(num):\n",
    "    xs = int(input(f\"Enter start x of line {i+1}: \"))\n",
    "    ys = int(input(f\"Enter start y of line {i+1}: \"))\n",
    "    xe = int(input(f\"Enter end x of line {i+1}: \"))\n",
    "    ye = int(input(f\"Enter end y of line {i+1}: \"))\n",
    "    start.append([xs,ys])\n",
    "    end.append([xe,ye])"
   ]
  },
  {
   "cell_type": "code",
   "execution_count": 3,
   "id": "dfd08836",
   "metadata": {},
   "outputs": [],
   "source": [
    "xmin = int(input(f\"Enter min x of line: \"))\n",
    "ymin = int(input(f\"Enter min y of line: \"))\n",
    "xmax = int(input(f\"Enter max x of line: \"))\n",
    "ymax = int(input(f\"Enter max y of line: \"))"
   ]
  },
  {
   "cell_type": "code",
   "execution_count": 7,
   "id": "b0830184",
   "metadata": {},
   "outputs": [],
   "source": [
    "def generate_region_code(point):\n",
    "    x=point[0]\n",
    "    y = point[1]\n",
    "    code = \"\"\n",
    "    if y>ymax:\n",
    "        code+=\"1\"\n",
    "    else:\n",
    "        code += \"0\"\n",
    "    \n",
    "    if y<ymin:\n",
    "        code+=\"1\"\n",
    "    else:\n",
    "        code += \"0\"\n",
    "    \n",
    "    if x<xmin:\n",
    "        code+=\"1\"\n",
    "    else:\n",
    "        code += \"0\"\n",
    "    \n",
    "    if x>xmax:\n",
    "        code+=\"1\"\n",
    "    else:\n",
    "        code += \"0\"\n",
    "    return code"
   ]
  },
  {
   "cell_type": "code",
   "execution_count": 8,
   "id": "49ae5236",
   "metadata": {},
   "outputs": [],
   "source": [
    "line_category = []\n",
    "for i in range(num):\n",
    "    reg_code_s = int(generate_region_code(start[i]),2)\n",
    "    reg_code_e = int(generate_region_code(end[i]),2)\n",
    "    if (reg_code_e|reg_code_s) == 0:\n",
    "        line_category.append(0)\n",
    "    if (reg_code_e&reg_code_s) == 0:\n",
    "        line_category.append(1)\n",
    "    else:\n",
    "        line_category.append(2)"
   ]
  },
  {
   "cell_type": "code",
   "execution_count": null,
   "id": "58af0722",
   "metadata": {},
   "outputs": [
    {
     "data": {
      "text/plain": [
       "[1, 1, 1, 1]"
      ]
     },
     "execution_count": 9,
     "metadata": {},
     "output_type": "execute_result"
    }
   ],
   "source": []
  },
  {
   "cell_type": "code",
   "execution_count": null,
   "id": "1b77b7fd",
   "metadata": {},
   "outputs": [],
   "source": [
    "new_start = np.zeros_like(start,dtype=\"float\")\n",
    "new_end = np.zeros_like(end,dtype=\"float\")\n",
    "\n",
    "for i in range(num):\n",
    "    if line_category==2:\n",
    "        continue\n",
    "    reg_code_s = generate_region_code(start[i])\n",
    "    reg_code_e = generate_region_code(end[i])\n"
   ]
  }
 ],
 "metadata": {
  "kernelspec": {
   "display_name": "base",
   "language": "python",
   "name": "python3"
  },
  "language_info": {
   "codemirror_mode": {
    "name": "ipython",
    "version": 3
   },
   "file_extension": ".py",
   "mimetype": "text/x-python",
   "name": "python",
   "nbconvert_exporter": "python",
   "pygments_lexer": "ipython3",
   "version": "3.12.9"
  }
 },
 "nbformat": 4,
 "nbformat_minor": 5
}
