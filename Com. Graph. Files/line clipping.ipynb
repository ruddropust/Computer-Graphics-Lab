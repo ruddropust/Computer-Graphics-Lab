{
 "cells": [
  {
   "cell_type": "code",
   "execution_count": 64,
   "id": "ac07027f",
   "metadata": {},
   "outputs": [],
   "source": [
    "import matplotlib.pyplot as plt \n",
    "import numpy as np"
   ]
  },
  {
   "cell_type": "code",
   "execution_count": null,
   "id": "26ec9712",
   "metadata": {},
   "outputs": [],
   "source": [
    "start_lines = []\n",
    "end_lines = []\n",
    "xl = int(input(\"Enter low window x: \"))\n",
    "yl = int(input(\"Enter low window y: \"))\n",
    "xh = int(input(\"Enter high window x: \"))\n",
    "yh = int(input(\"Enter high window y: \"))\n",
    "num_lines = int(input(\"Number of lines: \"))\n",
    "for i in range(num_lines):\n",
    "    xs = int(input(f\"Enter start point x of line {i+1}\"))\n",
    "    ys = int(input(f\"Enter start point y of line {i+1}\"))\n",
    "    xe = int(input(f\"Enter end point x of line {i+1}\"))\n",
    "    ye = int(input(f\"Enter end point y of line {i+1}\"))\n",
    "    start_lines.append([xs,ys])\n",
    "    end_lines.append([xe,ye])\n"
   ]
  },
  {
   "cell_type": "code",
   "execution_count": 66,
   "id": "2d1741aa",
   "metadata": {},
   "outputs": [],
   "source": [
    "def get_region_code(xl,yl,xh,yh,point):\n",
    "    code = \"\"\n",
    "    if point[1]>yh:\n",
    "        code += \"1\"\n",
    "    else:\n",
    "        code += \"0\"\n",
    "    if point[1]<yl:\n",
    "        code += \"1\"\n",
    "    else:\n",
    "        code += \"0\"\n",
    "    if point[0]<xl:\n",
    "        code += \"1\"\n",
    "    else:\n",
    "        code += \"0\"\n",
    "    if point[0]>xh:\n",
    "        code += \"1\"\n",
    "    else:\n",
    "        code += \"0\"\n",
    "    return code"
   ]
  },
  {
   "cell_type": "code",
   "execution_count": 67,
   "id": "a790488e",
   "metadata": {},
   "outputs": [],
   "source": [
    "region_code_s = []\n",
    "for point in start_lines:\n",
    "    region_code_s.append(get_region_code(xl,yl,xh,yh,point))\n",
    "\n",
    "region_code_e = []\n",
    "for point in end_lines:\n",
    "    region_code_e.append(get_region_code(xl,yl,xh,yh,point))"
   ]
  },
  {
   "cell_type": "code",
   "execution_count": 69,
   "id": "8069f733",
   "metadata": {},
   "outputs": [],
   "source": [
    "line_category = []   #\"0 for inside\" \"1 for clipping\" \"2 for outside\"\n",
    "for i in range(len(region_code_s)):\n",
    "    start = int(region_code_s[i],2)\n",
    "    end = int(region_code_e[i],2)\n",
    "    if (start | end)==0:\n",
    "        line_category.append(0)\n",
    "    elif (start & end) == 0:\n",
    "        line_category.append(1)\n",
    "    else:\n",
    "        line_category.append(2)"
   ]
  },
  {
   "cell_type": "code",
   "execution_count": 70,
   "id": "23717c5e",
   "metadata": {},
   "outputs": [],
   "source": [
    "def get_x(y, start, end):\n",
    "    dx = end[0] - start[0]\n",
    "    dy = end[1] - start[1]\n",
    "    return (((y-start[1])/dy)*dx+start[0])\n",
    "def get_y(x, start, end):\n",
    "    dx = end[0] - start[0]\n",
    "    dy = end[1] - start[1]\n",
    "    return ((x-start[0])/dx*dy+start[1])"
   ]
  },
  {
   "cell_type": "code",
   "execution_count": null,
   "id": "b74ebac7",
   "metadata": {},
   "outputs": [
    {
     "name": "stdout",
     "output_type": "stream",
     "text": [
      "0\n",
      "[1, 1]\n",
      "[4, 5]\n",
      "0110\n",
      "updated: [1.75, 2]\n",
      "updated region: 0010\n",
      "updated: [2, 2.3333333333333335]\n",
      "updated region: 0000\n",
      "1\n",
      "[3, 3]\n",
      "[19, 17]\n",
      "0000\n",
      "2\n",
      "[20, 20]\n",
      "[5, 9]\n",
      "1001\n",
      "updated: [6.363636363636363, 10]\n",
      "updated region: 0000\n",
      "3\n",
      "[10, 6]\n",
      "[8, 16]\n",
      "0000\n"
     ]
    }
   ],
   "source": [
    "for i in range(len(start_lines)):\n",
    "\n",
    "    region_code = region_code_s[i]\n",
    "    if region_code[0] == \"1\":\n",
    "        x = get_x(yh,start_lines[i], end_lines[i])\n",
    "        start_lines[i] = [x,yh]\n",
    "        region_code = get_region_code(xl,yl,xh,yh,start_lines[i])\n",
    "        \n",
    "    if region_code[1] == \"1\":\n",
    "        x = get_x(yl,start_lines[i], end_lines[i])\n",
    "        start_lines[i] = [x,yl]\n",
    "        region_code = get_region_code(xl,yl,xh,yh,start_lines[i])\n",
    "    if region_code[2] == \"1\":\n",
    "        y = get_y(xl,start_lines[i], end_lines[i])\n",
    "        start_lines[i] = [xl,y]\n",
    "        region_code = get_region_code(xl,yl,xh,yh,start_lines[i])\n",
    "    if region_code[3] == \"1\":\n",
    "        y = get_y(xh,start_lines[i], end_lines[i])\n",
    "        start_lines[i] = [xh,y]\n",
    "        region_code = get_region_code(xl,yl,xh,yh,start_lines[i])\n",
    "    region_code_s[i] = region_code\n",
    "\n",
    "for i in range(len(end_lines)):\n",
    "    region_code = region_code_e[i]\n",
    "    if region_code[0] == \"1\":\n",
    "        x = get_x(yh,end_lines[i], start_lines[i])\n",
    "        end_lines[i] = [x,yh]\n",
    "        region_code = get_region_code(xl,yl,xh,yh,end_lines[i])\n",
    "    if region_code[1] == \"1\":\n",
    "        x = get_x(yl,end_lines[i], start_lines[i])\n",
    "        end_lines[i] = [x,yl]\n",
    "        region_code = get_region_code(xl,yl,xh,yh,end_lines[i])\n",
    "    if region_code[2] == \"1\":\n",
    "        y = get_y(xl,end_lines[i], start_lines[i])\n",
    "        end_lines[i] = [xl,y]\n",
    "        region_code = get_region_code(xl,yl,xh,yh,end_lines[i])\n",
    "    if region_code[3] == \"1\":\n",
    "        y = get_y(xh,end_lines[i], start_lines[i])\n",
    "        end_lines[i] = [xh,y]\n",
    "        region_code = get_region_code(xl,yl,xh,yh,end_lines[i])\n",
    "    region_code_e[i] = region_code"
   ]
  },
  {
   "cell_type": "code",
   "execution_count": 76,
   "id": "edf753fe",
   "metadata": {},
   "outputs": [],
   "source": [
    "grid = np.zeros(((xh+5),(yh+5)))"
   ]
  },
  {
   "cell_type": "code",
   "execution_count": 77,
   "id": "6e7077cd",
   "metadata": {},
   "outputs": [],
   "source": [
    "def dda_line(x1, y1, x2, y2):\n",
    "    dx = x2 - x1\n",
    "    dy = y2 - y1\n",
    "    \n",
    "    steps = max(abs(dx), abs(dy))\n",
    "    \n",
    "    # Avoid division by zero (if steps=0, it's just a single point)\n",
    "    if steps == 0:\n",
    "        return [(round(x1), round(y1))]\n",
    "    \n",
    "    x_inc = dx / steps\n",
    "    y_inc = dy / steps\n",
    "    \n",
    "    x, y = x1, y1\n",
    "    points = []\n",
    "    \n",
    "    for _ in range(steps + 1):  # +1 to include both endpoints\n",
    "        points.append((round(x), round(y)))\n",
    "        x += x_inc\n",
    "        y += y_inc\n",
    "    \n",
    "    return points"
   ]
  },
  {
   "cell_type": "code",
   "execution_count": 80,
   "id": "8abc1de6",
   "metadata": {},
   "outputs": [],
   "source": [
    "for i in range(len(start_lines)):\n",
    "    if line_category[i] == 2:\n",
    "        continue\n",
    "    x1 = round(start_lines[i][0])\n",
    "    y1 = round(start_lines[i][1])\n",
    "    x2 = round(end_lines[i][0])\n",
    "    y2 = round(end_lines[i][1])\n",
    "    points = dda_line(x1,y1,x2,y2)\n",
    "    for point in points:\n",
    "        grid[point[0]][point[1]]=1\n",
    "    "
   ]
  },
  {
   "cell_type": "code",
   "execution_count": null,
   "id": "46fed10c",
   "metadata": {},
   "outputs": [],
   "source": [
    "def draw_window(xl,yl,xh,yh):\n",
    "    points1 = dda_line(xl,yl,xh,yl)\n",
    "    points2 = dda_line(xl,yl,xl,yh)\n",
    "    points3 = dda_line(xl,yh,xh,yh)\n",
    "    points4 = dda_line(xh,yl,xh,yh)\n",
    "    for point in points1:\n",
    "        grid[point[0]][point[1]]=2\n",
    "    for point in points2:\n",
    "        grid[point[0]][point[1]]=2\n",
    "    for point in points3:\n",
    "        grid[point[0]][point[1]]=2\n",
    "    for point in points4:\n",
    "        grid[point[0]][point[1]]=23\n",
    "draw_window(xl,yl,xh,yh)"
   ]
  },
  {
   "cell_type": "code",
   "execution_count": 82,
   "id": "784a262a",
   "metadata": {},
   "outputs": [
    {
     "data": {
      "text/plain": [
       "<matplotlib.image.AxesImage at 0x7def78cf9d30>"
      ]
     },
     "execution_count": 82,
     "metadata": {},
     "output_type": "execute_result"
    },
    {
     "data": {
      "image/png": "[encoded data removed]",
      "text/plain": [
       "<Figure size 640x480 with 1 Axes>"
      ]
     },
     "metadata": {},
     "output_type": "display_data"
    }
   ],
   "source": [
    "plt.imshow(grid)"
   ]
  },
  {
   "cell_type": "code",
   "execution_count": null,
   "id": "9f4e1590",
   "metadata": {},
   "outputs": [],
   "source": []
  }
 ],
 "metadata": {
  "kernelspec": {
   "display_name": "base",
   "language": "python",
   "name": "python3"
  },
  "language_info": {
   "codemirror_mode": {
    "name": "ipython",
    "version": 3
   },
   "file_extension": ".py",
   "mimetype": "text/x-python",
   "name": "python",
   "nbconvert_exporter": "python",
   "pygments_lexer": "ipython3",
   "version": "3.12.9"
  }
 },
 "nbformat": 4,
 "nbformat_minor": 5
}
