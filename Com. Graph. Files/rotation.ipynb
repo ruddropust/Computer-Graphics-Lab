{
 "cells": [
  {
   "cell_type": "code",
   "execution_count": 1,
   "id": "a0483f36",
   "metadata": {},
   "outputs": [],
   "source": [
    "import matplotlib.pyplot as plt\n",
    "import numpy as np"
   ]
  },
  {
   "cell_type": "code",
   "execution_count": 2,
   "id": "2bb3e1b9",
   "metadata": {},
   "outputs": [],
   "source": [
    "def bresenham_line(start, end):\n",
    "    del_y = abs(end[1]-start[1])\n",
    "    del_x = abs(end[0]-start[0])\n",
    "    \n",
    "    decision = 2*del_y - del_x\n",
    "    \n",
    "    activated_pixels = []\n",
    "    x = start[0]\n",
    "    y = start[1]\n",
    "    \n",
    "    activated_pixels.append((x,y))\n",
    "    while x != end[0] or y != end[1]:\n",
    "        if decision<0:\n",
    "            x = x+1\n",
    "            decision = decision +2*del_y\n",
    "        else:\n",
    "            x = x+1\n",
    "            y = y+1\n",
    "            decision = decision +2*del_y - 2*del_x\n",
    "        activated_pixels.append((round(x),round(y)))\n",
    "    return activated_pixels"
   ]
  },
  {
   "cell_type": "code",
   "execution_count": 3,
   "id": "7479646f",
   "metadata": {},
   "outputs": [],
   "source": [
    "def plot_points(activated_pixels, new_pixels):\n",
    "    x_points,y_points = zip(*activated_pixels)\n",
    "    # print(x_points)\n",
    "    # print(y_points)\n",
    "    labels = range(max(max(x_points),max(y_points))+1)\n",
    "    plt.scatter(x_points,y_points, marker='s')\n",
    "    plt.gca().set_aspect('equal', adjustable='box')\n",
    "    x_points,y_points = zip(*new_pixels)\n",
    "    labels = range(max(max(x_points),max(y_points))+1)\n",
    "    plt.scatter(x_points,y_points, marker='s', color=\"red\")\n",
    "    plt.gca().set_aspect('equal', adjustable='box')\n",
    "    plt.show()"
   ]
  },
  {
   "cell_type": "code",
   "execution_count": 4,
   "id": "61bd7fdc",
   "metadata": {},
   "outputs": [],
   "source": [
    "def rotation(points, theta):\n",
    "    new_points = []\n",
    "    for i in range(len(points)):\n",
    "        x = points[i][0] * np.cos(theta) - points[i][1] * np.sin(theta)\n",
    "        x = round(x)\n",
    "        y = points[i][0] * np.sin(theta) + points[i][1] * np.cos(theta)\n",
    "        y = round(y)\n",
    "        new_points.append((x,y))\n",
    "    return new_points"
   ]
  },
  {
   "cell_type": "code",
   "execution_count": 5,
   "id": "a98d5d72",
   "metadata": {},
   "outputs": [],
   "source": [
    "theta = int(input(\"Enter rotation angle in degree: \"))\n",
    "points = bresenham_line((0,0),(200,100))\n",
    "new_points = rotation(points, np.radians(theta))"
   ]
  },
  {
   "cell_type": "code",
   "execution_count": 6,
   "id": "6b9c1d47",
   "metadata": {},
   "outputs": [
    {
     "data": {
      "image/png": "[encoded data removed]",
      "text/plain": [
       "<Figure size 640x480 with 1 Axes>"
      ]
     },
     "metadata": {},
     "output_type": "display_data"
    }
   ],
   "source": [
    "plot_points(points, new_points)"
   ]
  },
  {
   "cell_type": "code",
   "execution_count": null,
   "id": "5049840d",
   "metadata": {},
   "outputs": [],
   "source": []
  }
 ],
 "metadata": {
  "kernelspec": {
   "display_name": "base",
   "language": "python",
   "name": "python3"
  },
  "language_info": {
   "codemirror_mode": {
    "name": "ipython",
    "version": 3
   },
   "file_extension": ".py",
   "mimetype": "text/x-python",
   "name": "python",
   "nbconvert_exporter": "python",
   "pygments_lexer": "ipython3",
   "version": "3.12.9"
  }
 },
 "nbformat": 4,
 "nbformat_minor": 5
}
