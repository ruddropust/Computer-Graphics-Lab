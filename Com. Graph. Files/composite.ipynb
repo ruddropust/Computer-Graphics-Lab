{
 "cells": [
  {
   "cell_type": "code",
   "execution_count": 10,
   "id": "3b3003f5",
   "metadata": {},
   "outputs": [
    {
     "name": "stdout",
     "output_type": "stream",
     "text": [
      "input\n",
      "output\n"
     ]
    },
    {
     "data": {
      "image/png": "[encoded data removed]",
      "text/plain": [
       "<Figure size 640x480 with 1 Axes>"
      ]
     },
     "metadata": {},
     "output_type": "display_data"
    }
   ],
   "source": [
    "import matplotlib.pyplot as plt\n",
    "import math\n",
    "import numpy as np\n",
    "def translation(x,y,tx,ty):\n",
    "    x1=x+tx\n",
    "    y1=y+ty\n",
    "    return [x1,y1]\n",
    "def rotation(x,y,angle_degree):\n",
    "    angle_rad=math.radians(angle_degree)\n",
    "    \n",
    "    x1=x*math.cos(angle_rad)-y*math.sin(angle_rad)\n",
    "\n",
    "    y1=x*math.sin(angle_rad)+y*math.cos(angle_rad)\n",
    "    \n",
    "    return [x1,y1]\n",
    "\n",
    "def pivot_rotation(x,y,xc,yc,angle):\n",
    "    point = translation(x,y,-xc,-yc)\n",
    "    point2 = rotation(point[0],point[1],angle)\n",
    "    output = translation(point2[0],point2[1],xc,yc)\n",
    "    return output\n",
    "\n",
    "def plot(points,label):\n",
    "    x_points,y_points = zip(*points)\n",
    "    print(label)\n",
    "    plt.plot(x_points,y_points, label = label)\n",
    "\n",
    "\n",
    "n=int(input(\"Enter the shape:\"))\n",
    "point=[]\n",
    "for i in range(n):\n",
    "    x=int(input (f\"enter {i+1}-x:\"))\n",
    "    y=int(input (f\"enter {i+1}-y:\"))\n",
    "    point.append([x,y])\n",
    "    \n",
    "xc = int(input(\"enter xc\"))\n",
    "yc  = int(input(\"Enter yc\"))\n",
    "angle = int(input(\"angle\"))\n",
    "\n",
    "\n",
    "output=[]\n",
    "for  i in range(len(point)):\n",
    "    x=point[i][0]\n",
    "    y=point[i][1]\n",
    "    new_point=pivot_rotation(x,y,xc,yc,angle)\n",
    "    output.append(new_point)\n",
    "plot(point,\"input\")\n",
    "plot(output, \"output\")\n",
    "plt.gca().set_aspect(\"equal\", adjustable=\"box\")\n",
    "plt.legend()\n",
    "plt.show()\n",
    "\n",
    "        \n",
    "        \n",
    "        "
   ]
  },
  {
   "cell_type": "code",
   "execution_count": null,
   "id": "d0b7ac1c",
   "metadata": {},
   "outputs": [],
   "source": []
  },
  {
   "cell_type": "code",
   "execution_count": null,
   "id": "ff9661da",
   "metadata": {},
   "outputs": [],
   "source": []
  }
 ],
 "metadata": {
  "kernelspec": {
   "display_name": "base",
   "language": "python",
   "name": "python3"
  },
  "language_info": {
   "codemirror_mode": {
    "name": "ipython",
    "version": 3
   },
   "file_extension": ".py",
   "mimetype": "text/x-python",
   "name": "python",
   "nbconvert_exporter": "python",
   "pygments_lexer": "ipython3",
   "version": "3.12.9"
  }
 },
 "nbformat": 4,
 "nbformat_minor": 5
}
