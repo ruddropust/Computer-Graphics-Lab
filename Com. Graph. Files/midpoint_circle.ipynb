{
 "cells": [
  {
   "cell_type": "code",
   "execution_count": 1,
   "id": "ba630e49",
   "metadata": {},
   "outputs": [],
   "source": [
    "import matplotlib.pyplot as plt\n",
    "def midpoint_circle(center, radius):\n",
    "    activated_pixels = []\n",
    "    xc = center[0]\n",
    "    yc = center[1]\n",
    "    x = 0\n",
    "    y = radius\n",
    "    decision = 5/4 -radius\n",
    "    activated_pixels.append((xc+x,yc+y))\n",
    "    activated_pixels.append((xc+x,yc-y))\n",
    "    activated_pixels.append((xc-x,yc+y))\n",
    "    activated_pixels.append((xc-x,yc-y))\n",
    "    activated_pixels.append((yc+y,xc+x))\n",
    "    activated_pixels.append((yc+y,xc-x))\n",
    "    activated_pixels.append((yc-y,xc+x))\n",
    "    activated_pixels.append((yc-y,xc-x))\n",
    "    while x<y:\n",
    "        if decision<0:\n",
    "            x = x+1\n",
    "            decision = decision +2*x +1\n",
    "        else:\n",
    "            x = x+1\n",
    "            y = y-1\n",
    "            decision = decision +2*x - 2*y +1 \n",
    "        activated_pixels.append((xc+x,yc+y))\n",
    "        activated_pixels.append((xc+x,yc-y))\n",
    "        activated_pixels.append((xc-x,yc+y))\n",
    "        activated_pixels.append((xc-x,yc-y))\n",
    "        activated_pixels.append((yc+y,xc+x))\n",
    "        activated_pixels.append((yc+y,xc-x))\n",
    "        activated_pixels.append((yc-y,xc+x))\n",
    "        activated_pixels.append((yc-y,xc-x))\n",
    "    return activated_pixels\n",
    "def plot_points(activated_pixels):\n",
    "    x_points,y_points = zip(*activated_pixels)\n",
    "    # print(x_points)\n",
    "    # print(y_points)\n",
    "    plt.scatter(x_points,y_points, marker='s')\n",
    "    plt.gca().set_aspect('equal', adjustable='box')\n",
    "    plt.show()\n",
    "x1 = int(input(\"Enter xc: \"))\n",
    "y1 = int(input(\"Enter yc: \"))\n",
    "radius = int(input(\"Enter radius: \"))\n",
    "activated_pixels = midpoint_circle((x1,y1),radius)\n",
    "plot_points(activated_pixels)\n",
    "    \n"
   ]
  }
 ],
 "metadata": {
  "kernelspec": {
   "display_name": "base",
   "language": "python",
   "name": "python3"
  },
  "language_info": {
   "codemirror_mode": {
    "name": "ipython",
    "version": 3
   },
   "file_extension": ".py",
   "mimetype": "text/x-python",
   "name": "python",
   "nbconvert_exporter": "python",
   "pygments_lexer": "ipython3",
   "version": "3.12.9"
  }
 },
 "nbformat": 4,
 "nbformat_minor": 5
}
