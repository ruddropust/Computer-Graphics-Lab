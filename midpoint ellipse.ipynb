{
 "cells": [
  {
   "cell_type": "code",
   "execution_count": 1,
   "metadata": {},
   "outputs": [],
   "source": [
    "import matplotlib.pyplot as plt"
   ]
  },
  {
   "cell_type": "code",
   "execution_count": 2,
   "metadata": {},
   "outputs": [],
   "source": [
    "def get_ellipse_points(x, y, h, k):\n",
    "    return [(h + x, k + y), (h - x, k + y), (h + x, k - y), (h - x, k - y)]"
   ]
  },
  {
   "cell_type": "code",
   "execution_count": 3,
   "metadata": {},
   "outputs": [],
   "source": [
    "def draw_midpoint_ellipse(a, b, h, k):\n",
    "    a2 = a * a\n",
    "    b2 = b * b\n",
    "\n",
    "    x = 0\n",
    "    y = b\n",
    "    points = []\n",
    "\n",
    "    # Region 1\n",
    "    p1 = b2 - (a2 * b) + (0.25 * a2)\n",
    "    dx = 2 * b2 * x\n",
    "    dy = 2 * a2 * y\n",
    "\n",
    "    while dx <= dy:\n",
    "        points.extend(get_ellipse_points(x, y, h, k))\n",
    "        x += 1\n",
    "        # dx = 2 * b2 * x\n",
    "        if p1 < 0:\n",
    "            p1 += dx + b2\n",
    "        else:\n",
    "            y -= 1\n",
    "            # dy = 2 * a2 * y\n",
    "            p1 += dx - dy + b2\n",
    "\n",
    "    # Region 2\n",
    "    p2 = (b2 * (x + 0.5) ** 2) + (a2 * (y - 1) ** 2) - (a2 * b2)\n",
    "    while y >= 0:\n",
    "        points.extend(get_ellipse_points(x, y, h, k))\n",
    "        y -= 1\n",
    "        # dy = 2 * a2 * y\n",
    "        if p2 > 0:\n",
    "            p2 -= dy + a2\n",
    "        else:\n",
    "            x += 1\n",
    "            # dx = 2 * b2 * x\n",
    "            p2 += dx - dy + a2\n",
    "\n",
    "    return points"
   ]
  },
  {
   "cell_type": "code",
   "execution_count": null,
   "metadata": {},
   "outputs": [],
   "source": [
    "try:\n",
    "    center_x = int(input(\"Enter center X-coordinate: \"))\n",
    "    center_y = int(input(\"Enter center Y-coordinate: \"))\n",
    "    major_axis = int(input(\"Enter length of semi-major axis (a): \"))\n",
    "    minor_axis = int(input(\"Enter length of semi-minor axis (b): \"))\n",
    "\n",
    "    points = draw_midpoint_ellipse(major_axis, minor_axis, center_x, center_y)\n",
    "    x_vals, y_vals = zip(*points)\n",
    "\n",
    "    # Plotting with Matplotlib\n",
    "    plt.figure(figsize=(8, 6))\n",
    "    plt.scatter(x_vals, y_vals, s=5, color='blue', label='Ellipse')\n",
    "\n",
    "    # Draw axes\n",
    "    plt.axhline(y=center_y, color='gray', linestyle='--', linewidth=1)  # X-axis\n",
    "    plt.axvline(x=center_x, color='gray', linestyle='--', linewidth=1)  # Y-axis\n",
    "\n",
    "    plt.title(\"Midpoint Ellipse Drawing using Matplotlib\")\n",
    "    plt.xlabel(\"X-axis\")\n",
    "    plt.ylabel(\"Y-axis\")\n",
    "    plt.gca().set_aspect('equal', adjustable='box')\n",
    "    plt.grid(True)\n",
    "    plt.legend()\n",
    "    plt.show()\n",
    "\n",
    "except ValueError:\n",
    "    print(\"Invalid input. Please enter integer values.\")"
   ]
  }
 ],
 "metadata": {
  "kernelspec": {
   "display_name": "base",
   "language": "python",
   "name": "python3"
  },
  "language_info": {
   "codemirror_mode": {
    "name": "ipython",
    "version": 3
   },
   "file_extension": ".py",
   "mimetype": "text/x-python",
   "name": "python",
   "nbconvert_exporter": "python",
   "pygments_lexer": "ipython3",
   "version": "3.12.3"
  }
 },
 "nbformat": 4,
 "nbformat_minor": 2
}
